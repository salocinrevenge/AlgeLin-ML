{
 "cells": [
  {
   "cell_type": "markdown",
   "metadata": {
    "vscode": {
     "languageId": "plaintext"
    }
   },
   "source": [
    "# Gradiente e Classificação multinomial\n",
    "\n",
    "Nícolas Hecker Silva RA 186132\n",
    "\n",
    "\n",
    "## Descrição \n",
    "\n",
    "Esta tarefa explora conceitos de c ́alculo vetorial, otimiza ̧c ̃ao e m ́etodos de gradiente descendente no contexto de aprendizado de m ́aquina, com foco em classifica ̧c ̃ao multinomial.\n",
    "\n",
    "## Etapa 1: Funções Convexas e Otimização\n",
    "\n",
    "Dado uma função $f(x) = x^TAx + b^Tx + c$ faça três versões mudando a matriz A para que a função seja:\n",
    "\n",
    "\n",
    "- Fortemente Convexa.\n",
    "- Convexa.\n",
    "- Não Convexa.\n",
    "\n",
    "Evidencia cada uma das propriedades.\n",
    "\n",
    "\n",
    "Dado o enunciado acima, como não foram especificados os tipos das variáveis e constantes será assumido que:\n",
    "x: É um vetor coluna de dimensão n (nx1)\n",
    "A: É uma matriz quadrada de dimensão nxn\n",
    "b: É um vetor coluna de dimensão n (nx1)\n",
    "c: É um escalar\n",
    "\n",
    "Dessa forma a dimensão das parcelas será:\n",
    "\n",
    "$x^TAx = (nx1)^T * (nxn) * (nx1) = (1xn) * (nxn) * (nx1) = (1)$\n",
    "\n",
    "$b^Tx = (nx1)^T * (nx1) = (1xn) * (nx1) = (1)$\n",
    "\n",
    "$c = (1)$\n",
    "\n",
    "Dessa forma f(x) retornará um valor real.\n",
    "\n",
    "Uma função $ f: \\mathbb{R}^n \\to \\mathbb{R} $ é **fortemente convexa** com parâmetro $ m > 0 $ se, para todo $ x, y \\in \\mathbb{R}^n $, satisfizer:\n",
    "\n",
    "$\n",
    "f(x) \\geq f(y) + \\nabla f(y)^T (x - y) + \\frac{m}{2} \\| x - y \\|^2.\n",
    "$\n",
    "\n",
    "Se $ f(x) = x^T A x + b^T x + c $, para que $ f $ seja fortemente convexa, a matriz $ A $ deve ser **positiva definida** com todos os autovalores maiores ou iguais a $ m $, ou seja, $ \\lambda_{\\min}(A) \\geq m > 0 $.\n",
    "\n",
    "Por fim, basta que o menor autovalor de $A$ seja maior que 0, sendo (novamente) **positiva definida**. E para isso, basta ela ser simétrica. Uma matriz exemplo seria\n",
    "\n",
    "$$\n",
    "A = \\begin{pmatrix}\n",
    "  2 & 0 \\\\\n",
    "  0 & 3 \n",
    "\\end{pmatrix}\n",
    "$$\n",
    "\n",
    "cujos autovalores são exatamente 2 e 3.\n",
    "\n",
    "Já para a função ser **convexa** basta que seus autovalores sejam não negativos, ou seja, eles podem ser nulos. Dessa forma, a matriz exemplo\n",
    "\n",
    "$$\n",
    "A = \\begin{pmatrix}\n",
    "  2 & 0 \\\\\n",
    "  0 & 0\n",
    "\\end{pmatrix}\n",
    "$$\n",
    "\n",
    "terá os autovalores 0 e 2, fazendo com que f(x) seja **convexa**.\n",
    "\n",
    "Dessa forma, para que a função f seja **não convexa**, é necessário que algum autovalor seja negativo, pois nesse caso a função f(x) não terá curvatura positiva em todas as direções, podendo curvar-se para baixo em algumas direções, o que viola a convexidade.\n",
    "\n",
    "Um exemplo é a matriz\n",
    "\n",
    "$$\n",
    "A = \\begin{pmatrix}\n",
    "  2 & 0 \\\\\n",
    "  0 & -1\n",
    "\\end{pmatrix}\n",
    "$$\n",
    "\n",
    "em que os autovalores são 2 e -1, sendo -1 um valor negativo fazendo com que A não seja semidefinida positiva.\n",
    "\n"
   ]
  },
  {
   "cell_type": "code",
   "execution_count": 2,
   "metadata": {},
   "outputs": [
    {
     "name": "stdout",
     "output_type": "stream",
     "text": [
      "Requirement already satisfied: tqdm in ./.venv/lib/python3.12/site-packages (4.67.0)\n",
      "\n",
      "\u001b[1m[\u001b[0m\u001b[34;49mnotice\u001b[0m\u001b[1;39;49m]\u001b[0m\u001b[39;49m A new release of pip is available: \u001b[0m\u001b[31;49m24.2\u001b[0m\u001b[39;49m -> \u001b[0m\u001b[32;49m24.3.1\u001b[0m\n",
      "\u001b[1m[\u001b[0m\u001b[34;49mnotice\u001b[0m\u001b[1;39;49m]\u001b[0m\u001b[39;49m To update, run: \u001b[0m\u001b[32;49mpip install --upgrade pip\u001b[0m\n",
      "Requirement already satisfied: torch in ./.venv/lib/python3.12/site-packages (2.5.1)\n",
      "Requirement already satisfied: filelock in ./.venv/lib/python3.12/site-packages (from torch) (3.16.1)\n",
      "Requirement already satisfied: typing-extensions>=4.8.0 in ./.venv/lib/python3.12/site-packages (from torch) (4.12.2)\n",
      "Requirement already satisfied: networkx in ./.venv/lib/python3.12/site-packages (from torch) (3.4.2)\n",
      "Requirement already satisfied: jinja2 in ./.venv/lib/python3.12/site-packages (from torch) (3.1.4)\n",
      "Requirement already satisfied: fsspec in ./.venv/lib/python3.12/site-packages (from torch) (2024.10.0)\n",
      "Requirement already satisfied: nvidia-cuda-nvrtc-cu12==12.4.127 in ./.venv/lib/python3.12/site-packages (from torch) (12.4.127)\n",
      "Requirement already satisfied: nvidia-cuda-runtime-cu12==12.4.127 in ./.venv/lib/python3.12/site-packages (from torch) (12.4.127)\n",
      "Requirement already satisfied: nvidia-cuda-cupti-cu12==12.4.127 in ./.venv/lib/python3.12/site-packages (from torch) (12.4.127)\n",
      "Requirement already satisfied: nvidia-cudnn-cu12==9.1.0.70 in ./.venv/lib/python3.12/site-packages (from torch) (9.1.0.70)\n",
      "Requirement already satisfied: nvidia-cublas-cu12==12.4.5.8 in ./.venv/lib/python3.12/site-packages (from torch) (12.4.5.8)\n",
      "Requirement already satisfied: nvidia-cufft-cu12==11.2.1.3 in ./.venv/lib/python3.12/site-packages (from torch) (11.2.1.3)\n",
      "Requirement already satisfied: nvidia-curand-cu12==10.3.5.147 in ./.venv/lib/python3.12/site-packages (from torch) (10.3.5.147)\n",
      "Requirement already satisfied: nvidia-cusolver-cu12==11.6.1.9 in ./.venv/lib/python3.12/site-packages (from torch) (11.6.1.9)\n",
      "Requirement already satisfied: nvidia-cusparse-cu12==12.3.1.170 in ./.venv/lib/python3.12/site-packages (from torch) (12.3.1.170)\n",
      "Requirement already satisfied: nvidia-nccl-cu12==2.21.5 in ./.venv/lib/python3.12/site-packages (from torch) (2.21.5)\n",
      "Requirement already satisfied: nvidia-nvtx-cu12==12.4.127 in ./.venv/lib/python3.12/site-packages (from torch) (12.4.127)\n",
      "Requirement already satisfied: nvidia-nvjitlink-cu12==12.4.127 in ./.venv/lib/python3.12/site-packages (from torch) (12.4.127)\n",
      "Requirement already satisfied: triton==3.1.0 in ./.venv/lib/python3.12/site-packages (from torch) (3.1.0)\n",
      "Requirement already satisfied: setuptools in ./.venv/lib/python3.12/site-packages (from torch) (75.4.0)\n",
      "Requirement already satisfied: sympy==1.13.1 in ./.venv/lib/python3.12/site-packages (from torch) (1.13.1)\n",
      "Requirement already satisfied: mpmath<1.4,>=1.1.0 in ./.venv/lib/python3.12/site-packages (from sympy==1.13.1->torch) (1.3.0)\n",
      "Requirement already satisfied: MarkupSafe>=2.0 in ./.venv/lib/python3.12/site-packages (from jinja2->torch) (3.0.2)\n",
      "\n",
      "\u001b[1m[\u001b[0m\u001b[34;49mnotice\u001b[0m\u001b[1;39;49m]\u001b[0m\u001b[39;49m A new release of pip is available: \u001b[0m\u001b[31;49m24.2\u001b[0m\u001b[39;49m -> \u001b[0m\u001b[32;49m24.3.1\u001b[0m\n",
      "\u001b[1m[\u001b[0m\u001b[34;49mnotice\u001b[0m\u001b[1;39;49m]\u001b[0m\u001b[39;49m To update, run: \u001b[0m\u001b[32;49mpip install --upgrade pip\u001b[0m\n",
      "Requirement already satisfied: matplotlib in ./.venv/lib/python3.12/site-packages (3.9.2)\n",
      "Requirement already satisfied: contourpy>=1.0.1 in ./.venv/lib/python3.12/site-packages (from matplotlib) (1.3.0)\n",
      "Requirement already satisfied: cycler>=0.10 in ./.venv/lib/python3.12/site-packages (from matplotlib) (0.12.1)\n",
      "Requirement already satisfied: fonttools>=4.22.0 in ./.venv/lib/python3.12/site-packages (from matplotlib) (4.53.1)\n",
      "Requirement already satisfied: kiwisolver>=1.3.1 in ./.venv/lib/python3.12/site-packages (from matplotlib) (1.4.7)\n",
      "Requirement already satisfied: numpy>=1.23 in ./.venv/lib/python3.12/site-packages (from matplotlib) (2.1.1)\n",
      "Requirement already satisfied: packaging>=20.0 in ./.venv/lib/python3.12/site-packages (from matplotlib) (24.1)\n",
      "Requirement already satisfied: pillow>=8 in ./.venv/lib/python3.12/site-packages (from matplotlib) (10.4.0)\n",
      "Requirement already satisfied: pyparsing>=2.3.1 in ./.venv/lib/python3.12/site-packages (from matplotlib) (3.1.4)\n",
      "Requirement already satisfied: python-dateutil>=2.7 in ./.venv/lib/python3.12/site-packages (from matplotlib) (2.9.0.post0)\n",
      "Requirement already satisfied: six>=1.5 in ./.venv/lib/python3.12/site-packages (from python-dateutil>=2.7->matplotlib) (1.16.0)\n",
      "\n",
      "\u001b[1m[\u001b[0m\u001b[34;49mnotice\u001b[0m\u001b[1;39;49m]\u001b[0m\u001b[39;49m A new release of pip is available: \u001b[0m\u001b[31;49m24.2\u001b[0m\u001b[39;49m -> \u001b[0m\u001b[32;49m24.3.1\u001b[0m\n",
      "\u001b[1m[\u001b[0m\u001b[34;49mnotice\u001b[0m\u001b[1;39;49m]\u001b[0m\u001b[39;49m To update, run: \u001b[0m\u001b[32;49mpip install --upgrade pip\u001b[0m\n",
      "Requirement already satisfied: numpy in ./.venv/lib/python3.12/site-packages (2.1.1)\n",
      "\n",
      "\u001b[1m[\u001b[0m\u001b[34;49mnotice\u001b[0m\u001b[1;39;49m]\u001b[0m\u001b[39;49m A new release of pip is available: \u001b[0m\u001b[31;49m24.2\u001b[0m\u001b[39;49m -> \u001b[0m\u001b[32;49m24.3.1\u001b[0m\n",
      "\u001b[1m[\u001b[0m\u001b[34;49mnotice\u001b[0m\u001b[1;39;49m]\u001b[0m\u001b[39;49m To update, run: \u001b[0m\u001b[32;49mpip install --upgrade pip\u001b[0m\n"
     ]
    }
   ],
   "source": [
    "!python -m pip install tqdm\n",
    "!python -m pip install torch\n",
    "!python -m pip install matplotlib\n",
    "!python -m pip install numpy\n",
    "\n",
    "import os\n",
    "import numpy as np\n",
    "import struct\n",
    "from array import array\n",
    "from os.path  import join\n",
    "from tqdm import tqdm\n",
    "from time import time"
   ]
  },
  {
   "cell_type": "markdown",
   "metadata": {},
   "source": [
    "Uma primeira parte muito importante é baixar o dataset mnist. Ele será baixado usando o comando shell curl e será colocado na pasta dataset-t3"
   ]
  },
  {
   "cell_type": "code",
   "execution_count": 3,
   "metadata": {},
   "outputs": [],
   "source": [
    "# cria pasta dataset-t3\n",
    "os.makedirs('dataset-t3', exist_ok=True)\n",
    "\n",
    "if not os.path.exists('dataset-t3/d.zip'):\n",
    "    !curl -L -o dataset-t3/d.zip\\\n",
    "    https://www.kaggle.com/api/v1/datasets/download/hojjatk/mnist-dataset\n",
    "    !unzip dataset-t3/d.zip -d dataset-t3"
   ]
  },
  {
   "cell_type": "markdown",
   "metadata": {},
   "source": [
    "Para verificar as imagens (uma vez q a extensão delas não é visível), vamos usar o código fornecido pelos autores do MNIST no kaggle (duas células abaixo)"
   ]
  },
  {
   "cell_type": "code",
   "execution_count": 4,
   "metadata": {},
   "outputs": [],
   "source": [
    "#\n",
    "# MNIST Data Loader Class\n",
    "#\n",
    "class MnistDataloader(object):\n",
    "    def __init__(self, training_images_filepath,training_labels_filepath,\n",
    "                 test_images_filepath, test_labels_filepath):\n",
    "        self.training_images_filepath = training_images_filepath\n",
    "        self.training_labels_filepath = training_labels_filepath\n",
    "        self.test_images_filepath = test_images_filepath\n",
    "        self.test_labels_filepath = test_labels_filepath\n",
    "    \n",
    "    def read_images_labels(self, images_filepath, labels_filepath):        \n",
    "        labels = []\n",
    "        with open(labels_filepath, 'rb') as file:\n",
    "            magic, size = struct.unpack(\">II\", file.read(8))\n",
    "            if magic != 2049:\n",
    "                raise ValueError('Magic number mismatch, expected 2049, got {}'.format(magic))\n",
    "            labels = array(\"B\", file.read())        \n",
    "        \n",
    "        with open(images_filepath, 'rb') as file:\n",
    "            magic, size, rows, cols = struct.unpack(\">IIII\", file.read(16))\n",
    "            if magic != 2051:\n",
    "                raise ValueError('Magic number mismatch, expected 2051, got {}'.format(magic))\n",
    "            image_data = array(\"B\", file.read())        \n",
    "        images = []\n",
    "        for i in range(size):\n",
    "            images.append([0] * rows * cols)\n",
    "        for i in range(size):\n",
    "            img = np.array(image_data[i * rows * cols:(i + 1) * rows * cols])\n",
    "            img = img.reshape(28, 28)\n",
    "            images[i][:] = img            \n",
    "        \n",
    "        return images, labels\n",
    "            \n",
    "    def load_data(self):\n",
    "        x_train, y_train = self.read_images_labels(self.training_images_filepath, self.training_labels_filepath)\n",
    "        x_test, y_test = self.read_images_labels(self.test_images_filepath, self.test_labels_filepath)\n",
    "        return (x_train, y_train),(x_test, y_test)   "
   ]
  },
  {
   "cell_type": "code",
   "execution_count": 5,
   "metadata": {},
   "outputs": [
    {
     "data": {
      "image/png": "[encoded data removed]",
      "text/plain": [
       "<Figure size 3000x2000 with 15 Axes>"
      ]
     },
     "metadata": {},
     "output_type": "display_data"
    }
   ],
   "source": [
    "#\n",
    "# Verify Reading Dataset via MnistDataloader class\n",
    "#\n",
    "%matplotlib inline\n",
    "import random\n",
    "import matplotlib.pyplot as plt\n",
    "\n",
    "#\n",
    "# Set file paths based on added MNIST Datasets\n",
    "#\n",
    "input_path = 'dataset-t3'\n",
    "training_images_filepath = join(input_path, 'train-images-idx3-ubyte/train-images-idx3-ubyte')\n",
    "training_labels_filepath = join(input_path, 'train-labels-idx1-ubyte/train-labels-idx1-ubyte')\n",
    "test_images_filepath = join(input_path, 't10k-images-idx3-ubyte/t10k-images-idx3-ubyte')\n",
    "test_labels_filepath = join(input_path, 't10k-labels-idx1-ubyte/t10k-labels-idx1-ubyte')\n",
    "\n",
    "#\n",
    "# Helper function to show a list of images with their relating titles\n",
    "#\n",
    "def show_images(images, title_texts):\n",
    "    cols = 5\n",
    "    rows = int(len(images)/cols) + 1\n",
    "    plt.figure(figsize=(30,20))\n",
    "    index = 1    \n",
    "    for x in zip(images, title_texts):        \n",
    "        image = x[0]        \n",
    "        title_text = x[1]\n",
    "        plt.subplot(rows, cols, index)        \n",
    "        plt.imshow(image, cmap=plt.cm.gray)\n",
    "        if (title_text != ''):\n",
    "            plt.title(title_text, fontsize = 15);        \n",
    "        index += 1\n",
    "\n",
    "#\n",
    "# Load MINST dataset\n",
    "#\n",
    "mnist_dataloader = MnistDataloader(training_images_filepath, training_labels_filepath, test_images_filepath, test_labels_filepath)\n",
    "(x_train, y_train), (x_test, y_test) = mnist_dataloader.load_data()\n",
    "\n",
    "#\n",
    "# Show some random training and test images \n",
    "#\n",
    "images_2_show = []\n",
    "titles_2_show = []\n",
    "for i in range(0, 10):\n",
    "    r = random.randint(1, 60000)\n",
    "    images_2_show.append(x_train[r])\n",
    "    titles_2_show.append('training image [' + str(r) + '] = ' + str(y_train[r]))    \n",
    "\n",
    "for i in range(0, 5):\n",
    "    r = random.randint(1, 10000)\n",
    "    images_2_show.append(x_test[r])        \n",
    "    titles_2_show.append('test image [' + str(r) + '] = ' + str(y_test[r]))    \n",
    "\n",
    "show_images(images_2_show, titles_2_show)"
   ]
  },
  {
   "cell_type": "code",
   "execution_count": 6,
   "metadata": {},
   "outputs": [
    {
     "name": "stdout",
     "output_type": "stream",
     "text": [
      "x_train.shape = (60000, 28, 28)\n",
      "y_train.shape = (60000,)\n"
     ]
    }
   ],
   "source": [
    "x_train = np.array(x_train)\n",
    "x_test = np.array(x_test)\n",
    "y_train = np.array(y_train)\n",
    "y_test = np.array(y_test)\n",
    "\n",
    "\n",
    "\n",
    "print('x_train.shape =', x_train.shape)\n",
    "print('y_train.shape =', np.array(y_train).shape)"
   ]
  },
  {
   "cell_type": "code",
   "execution_count": 7,
   "metadata": {},
   "outputs": [
    {
     "ename": "Exception",
     "evalue": "Stop here",
     "output_type": "error",
     "traceback": [
      "\u001b[0;31m---------------------------------------------------------------------------\u001b[0m",
      "\u001b[0;31mException\u001b[0m                                 Traceback (most recent call last)",
      "Cell \u001b[0;32mIn[7], line 1\u001b[0m\n\u001b[0;32m----> 1\u001b[0m \u001b[38;5;28;01mraise\u001b[39;00m \u001b[38;5;167;01mException\u001b[39;00m(\u001b[38;5;124m\"\u001b[39m\u001b[38;5;124mStop here\u001b[39m\u001b[38;5;124m\"\u001b[39m)\n",
      "\u001b[0;31mException\u001b[0m: Stop here"
     ]
    }
   ],
   "source": [
    "raise Exception(\"Stop here\")"
   ]
  },
  {
   "cell_type": "code",
   "execution_count": 17,
   "metadata": {},
   "outputs": [
    {
     "name": "stderr",
     "output_type": "stream",
     "text": [
      "  0%|          | 0/500 [00:00<?, ?it/s]\n"
     ]
    },
    {
     "ename": "MemoryError",
     "evalue": "Unable to allocate 268. GiB for an array with shape (60000, 60000, 10) and data type float64",
     "output_type": "error",
     "traceback": [
      "\u001b[0;31m---------------------------------------------------------------------------\u001b[0m",
      "\u001b[0;31mMemoryError\u001b[0m                               Traceback (most recent call last)",
      "Cell \u001b[0;32mIn[17], line 62\u001b[0m\n\u001b[1;32m     59\u001b[0m n_classes \u001b[38;5;241m=\u001b[39m \u001b[38;5;28mlen\u001b[39m(np\u001b[38;5;241m.\u001b[39munique(y))\n\u001b[1;32m     61\u001b[0m \u001b[38;5;66;03m# Treinamento\u001b[39;00m\n\u001b[0;32m---> 62\u001b[0m W, b \u001b[38;5;241m=\u001b[39m \u001b[43mtrain\u001b[49m\u001b[43m(\u001b[49m\u001b[43mX\u001b[49m\u001b[43m,\u001b[49m\u001b[43m \u001b[49m\u001b[43my\u001b[49m\u001b[43m,\u001b[49m\u001b[43m \u001b[49m\u001b[43mn_classes\u001b[49m\u001b[43m,\u001b[49m\u001b[43m \u001b[49m\u001b[43mn_iter\u001b[49m\u001b[43m \u001b[49m\u001b[38;5;241;43m=\u001b[39;49m\u001b[43m \u001b[49m\u001b[38;5;241;43m500\u001b[39;49m\u001b[43m,\u001b[49m\u001b[43m \u001b[49m\u001b[43mlearning_rate\u001b[49m\u001b[38;5;241;43m=\u001b[39;49m\u001b[38;5;241;43m0.002\u001b[39;49m\u001b[43m)\u001b[49m\n\u001b[1;32m     64\u001b[0m \u001b[38;5;66;03m# Previsão e avaliação\u001b[39;00m\n\u001b[1;32m     65\u001b[0m y_pred \u001b[38;5;241m=\u001b[39m predict(x_test, W, b)\n",
      "Cell \u001b[0;32mIn[17], line 34\u001b[0m, in \u001b[0;36mtrain\u001b[0;34m(X, y, n_classes, learning_rate, n_iter)\u001b[0m\n\u001b[1;32m     32\u001b[0m \u001b[38;5;66;03m# Calcular e atualizar os gradientes\u001b[39;00m\n\u001b[1;32m     33\u001b[0m y_one_hot \u001b[38;5;241m=\u001b[39m np\u001b[38;5;241m.\u001b[39meye(n_classes)[y]\n\u001b[0;32m---> 34\u001b[0m grad_W \u001b[38;5;241m=\u001b[39m (\u001b[38;5;241m1\u001b[39m \u001b[38;5;241m/\u001b[39m n_samples) \u001b[38;5;241m*\u001b[39m np\u001b[38;5;241m.\u001b[39mdot(X\u001b[38;5;241m.\u001b[39mT, (\u001b[43my_pred\u001b[49m\u001b[43m \u001b[49m\u001b[38;5;241;43m-\u001b[39;49m\u001b[43m \u001b[49m\u001b[43my_one_hot\u001b[49m))\n\u001b[1;32m     35\u001b[0m grad_b \u001b[38;5;241m=\u001b[39m (\u001b[38;5;241m1\u001b[39m \u001b[38;5;241m/\u001b[39m n_samples) \u001b[38;5;241m*\u001b[39m np\u001b[38;5;241m.\u001b[39msum(y_pred \u001b[38;5;241m-\u001b[39m y_one_hot, axis\u001b[38;5;241m=\u001b[39m\u001b[38;5;241m0\u001b[39m, keepdims\u001b[38;5;241m=\u001b[39m\u001b[38;5;28;01mTrue\u001b[39;00m)\n\u001b[1;32m     36\u001b[0m tempos[\u001b[38;5;124m\"\u001b[39m\u001b[38;5;124mgrads\u001b[39m\u001b[38;5;124m\"\u001b[39m] \u001b[38;5;241m+\u001b[39m\u001b[38;5;241m=\u001b[39m time() \u001b[38;5;241m-\u001b[39m medidor\n",
      "\u001b[0;31mMemoryError\u001b[0m: Unable to allocate 268. GiB for an array with shape (60000, 60000, 10) and data type float64"
     ]
    }
   ],
   "source": [
    "def acuracia(y_true, y_pred):\n",
    "    return np.mean(y_true == y_pred)\n",
    "\n",
    "# Função softmax para calcular probabilidades\n",
    "def softmax(z):\n",
    "    exp_z = np.exp(z - np.max(z, axis=1, keepdims=True))  # Evitar overflow numérico\n",
    "    return exp_z / np.sum(exp_z, axis=1, keepdims=True)\n",
    "\n",
    "# Gradiente descendente para treinar o modelo\n",
    "def train(X, y, n_classes, learning_rate=0.1, n_iter=1000):\n",
    "    X = X.reshape(X.shape[0], -1)\n",
    "    n_samples, n_features,  = X.shape\n",
    "    W = np.random.rand(n_features, n_classes)\n",
    "    b = np.zeros((1, n_classes))\n",
    "\n",
    "    tempos = {\"logits\": 0, \"softmax\": 0, \"pred\": 0, \"grads\": 0, \"update\": 0}\n",
    "    for i in tqdm(range(n_iter)):\n",
    "        # Cálculo de logits e probabilidades\n",
    "        medidor = time()\n",
    "        logits = np.dot(X, W) + b\n",
    "        tempos[\"logits\"] += time() - medidor\n",
    "\n",
    "        medidor = time()\n",
    "        y_pred = softmax(logits)\n",
    "        tempos[\"softmax\"] += time() - medidor\n",
    "\n",
    "        medidor = time()\n",
    "        pred = np.argmax(y_pred, axis=1)\n",
    "        tempos[\"pred\"] += time() - medidor\n",
    "\n",
    "        medidor = time()\n",
    "        # Calcular e atualizar os gradientes\n",
    "        y_one_hot = np.eye(n_classes)[y]\n",
    "        grad_W = (1 / n_samples) * np.dot(X.T, (y_pred - y_one_hot))\n",
    "        grad_b = (1 / n_samples) * np.sum(y_pred - y_one_hot, axis=0, keepdims=True)\n",
    "        tempos[\"grads\"] += time() - medidor\n",
    "\n",
    "        medidor = time()\n",
    "        W -= learning_rate * grad_W\n",
    "        b -= learning_rate * grad_b\n",
    "        tempos[\"update\"] += time() - medidor\n",
    "\n",
    "        if i % (n_iter//10) == 0:\n",
    "            print(f\"Iteração {i}, acurácia: {acuracia(y, pred) * 100:.2f}%\")\n",
    "            print(\"Tempos: {}\".format(tempos))\n",
    "    print(f\"Iteração {n_iter}, acurácia: {acuracia(y, pred) * 100:.2f}%\")\n",
    "\n",
    "    return W, b\n",
    "\n",
    "# Prever as classes\n",
    "def predict(X, W, b):\n",
    "    X = X.reshape(X.shape[0], -1)\n",
    "    logits = np.dot(X, W) + b\n",
    "    y_pred = softmax(logits)\n",
    "    return np.argmax(y_pred, axis=1)\n",
    "\n",
    "\n",
    "X, y = x_train, y_train\n",
    "n_classes = len(np.unique(y))\n",
    "\n",
    "# Treinamento\n",
    "W, b = train(X, y, n_classes, n_iter = 500, learning_rate=0.002)\n",
    "\n",
    "# Previsão e avaliação\n",
    "y_pred = predict(x_test, W, b)\n",
    "accuracy = np.mean(y_pred == y_test)\n",
    "print(f\"Acurácia do modelo no teste: {accuracy * 100:.2f}%\")\n"
   ]
  },
  {
   "cell_type": "code",
   "execution_count": null,
   "metadata": {},
   "outputs": [
    {
     "name": "stderr",
     "output_type": "stream",
     "text": [
      "  0%|          | 0/1000000 [00:00<?, ?it/s]"
     ]
    },
    {
     "name": "stderr",
     "output_type": "stream",
     "text": [
      "  0%|          | 3039/1000000 [00:00<01:33, 10699.49it/s]"
     ]
    },
    {
     "name": "stdout",
     "output_type": "stream",
     "text": [
      "Iteração 0, acurácia: 10.27%\n"
     ]
    },
    {
     "name": "stderr",
     "output_type": "stream",
     "text": [
      " 10%|█         | 103415/1000000 [00:05<00:58, 15380.08it/s]"
     ]
    },
    {
     "name": "stdout",
     "output_type": "stream",
     "text": [
      "Iteração 100000, acurácia: 89.31%\n"
     ]
    },
    {
     "name": "stderr",
     "output_type": "stream",
     "text": [
      " 20%|██        | 203372/1000000 [00:10<00:53, 14804.16it/s]"
     ]
    },
    {
     "name": "stdout",
     "output_type": "stream",
     "text": [
      "Iteração 200000, acurácia: 85.76%\n"
     ]
    },
    {
     "name": "stderr",
     "output_type": "stream",
     "text": [
      " 30%|███       | 301583/1000000 [00:16<00:52, 13370.08it/s]"
     ]
    },
    {
     "name": "stdout",
     "output_type": "stream",
     "text": [
      "Iteração 300000, acurácia: 88.20%\n"
     ]
    },
    {
     "name": "stderr",
     "output_type": "stream",
     "text": [
      " 40%|████      | 403355/1000000 [00:21<00:41, 14375.60it/s]"
     ]
    },
    {
     "name": "stdout",
     "output_type": "stream",
     "text": [
      "Iteração 400000, acurácia: 88.97%\n"
     ]
    },
    {
     "name": "stderr",
     "output_type": "stream",
     "text": [
      " 50%|█████     | 503295/1000000 [00:26<00:32, 15165.13it/s]"
     ]
    },
    {
     "name": "stdout",
     "output_type": "stream",
     "text": [
      "Iteração 500000, acurácia: 89.19%\n"
     ]
    },
    {
     "name": "stderr",
     "output_type": "stream",
     "text": [
      " 60%|██████    | 603415/1000000 [00:31<00:26, 14928.60it/s]"
     ]
    },
    {
     "name": "stdout",
     "output_type": "stream",
     "text": [
      "Iteração 600000, acurácia: 89.09%\n"
     ]
    },
    {
     "name": "stderr",
     "output_type": "stream",
     "text": [
      " 70%|███████   | 703195/1000000 [00:36<00:21, 13937.43it/s]"
     ]
    },
    {
     "name": "stdout",
     "output_type": "stream",
     "text": [
      "Iteração 700000, acurácia: 89.99%\n"
     ]
    },
    {
     "name": "stderr",
     "output_type": "stream",
     "text": [
      " 80%|████████  | 802426/1000000 [00:42<00:13, 14183.43it/s]"
     ]
    },
    {
     "name": "stdout",
     "output_type": "stream",
     "text": [
      "Iteração 800000, acurácia: 90.09%\n"
     ]
    },
    {
     "name": "stderr",
     "output_type": "stream",
     "text": [
      " 90%|█████████ | 901994/1000000 [00:47<00:06, 14842.17it/s]"
     ]
    },
    {
     "name": "stdout",
     "output_type": "stream",
     "text": [
      "Iteração 900000, acurácia: 90.35%\n"
     ]
    },
    {
     "name": "stderr",
     "output_type": "stream",
     "text": [
      "100%|██████████| 1000000/1000000 [00:51<00:00, 19263.29it/s]\n"
     ]
    },
    {
     "name": "stdout",
     "output_type": "stream",
     "text": [
      "Iteração 1000000, acurácia: 88.94%\n",
      "Acurácia do modelo no teste: 88.40%\n"
     ]
    }
   ],
   "source": [
    "from random import randint\n",
    "\n",
    "# Função para treinamento com SGD\n",
    "def train_SGD(X, y, n_classes, learning_rate=0.1, n_iter=1000, batch_size=1):\n",
    "    X = X.reshape(X.shape[0], -1)\n",
    "    n_samples, n_features = X.shape\n",
    "    W = np.random.rand(n_features, n_classes)\n",
    "    b = np.zeros((1, n_classes))\n",
    "\n",
    "    num_batches = n_samples // batch_size\n",
    "    for i in tqdm(range(n_iter)):\n",
    "        # Em SGD, iteramos por amostras ou mini-lotes\n",
    "\n",
    "        # sorteia um índice de batch\n",
    "        idx = randint(0,num_batches)\n",
    "        # Selecionar uma amostra ou mini-lote\n",
    "        X_batch = X[idx*batch_size:idx*batch_size + batch_size]\n",
    "        y_batch = y[idx*batch_size:idx*batch_size + batch_size]\n",
    "        \n",
    "        # Cálculo de logits e probabilidades\n",
    "        logits = np.dot(X_batch, W) + b\n",
    "        y_pred = softmax(logits)\n",
    "        pred = np.argmax(y_pred, axis=1)\n",
    "        \n",
    "        # Calcular os gradientes para essa amostra ou mini-lote\n",
    "        y_one_hot = np.eye(n_classes)[y_batch]\n",
    "        grad_W = (1 / batch_size) * np.dot(X_batch.T, (y_pred - y_one_hot))\n",
    "        grad_b = (1 / batch_size) * np.sum(y_pred - y_one_hot, axis=0, keepdims=True)\n",
    "        \n",
    "        # Atualizar os pesos e o viés com base nos gradientes\n",
    "        W -= learning_rate * grad_W\n",
    "        b -= learning_rate * grad_b\n",
    "        \n",
    "        # A cada 5 iterações, printa a acurácia\n",
    "        if i % (n_iter//10) == 0:\n",
    "            pred = np.argmax(softmax(np.dot(X, W) + b), axis=1)\n",
    "            print(f\"Iteração {i}, acurácia: {acuracia(y, pred) * 100:.2f}%\")\n",
    "    \n",
    "    # Final\n",
    "    pred = np.argmax(softmax(np.dot(X, W) + b), axis=1)\n",
    "    print(f\"Iteração {n_iter}, acurácia: {acuracia(y, pred) * 100:.2f}%\")\n",
    "\n",
    "    return W, b\n",
    "\n",
    "# Função para prever as classes\n",
    "def predict(X, W, b):\n",
    "    X = X.reshape(X.shape[0], -1)\n",
    "    logits = np.dot(X, W) + b\n",
    "    y_pred = softmax(logits)\n",
    "    return np.argmax(y_pred, axis=1)\n",
    "\n",
    "# Treinamento usando SGD\n",
    "W, b = train_SGD(X, y, n_classes, learning_rate=0.002, n_iter=1000000, batch_size=1)\n",
    "\n",
    "# Previsão e avaliação\n",
    "y_pred = predict(x_test, W, b)\n",
    "accuracy = np.mean(y_pred == y_test)\n",
    "print(f\"Acurácia do modelo no teste: {accuracy * 100:.2f}%\")\n"
   ]
  },
  {
   "cell_type": "code",
   "execution_count": null,
   "metadata": {},
   "outputs": [
    {
     "name": "stderr",
     "output_type": "stream",
     "text": [
      "  0%|          | 224/100000 [00:00<01:33, 1065.61it/s]"
     ]
    },
    {
     "name": "stdout",
     "output_type": "stream",
     "text": [
      "Iteração 0, acurácia: 7.09%\n"
     ]
    },
    {
     "name": "stderr",
     "output_type": "stream",
     "text": [
      " 10%|█         | 10270/100000 [00:03<00:37, 2377.61it/s]"
     ]
    },
    {
     "name": "stdout",
     "output_type": "stream",
     "text": [
      "Iteração 10000, acurácia: 87.20%\n"
     ]
    },
    {
     "name": "stderr",
     "output_type": "stream",
     "text": [
      " 20%|██        | 20281/100000 [00:07<00:39, 2024.73it/s]"
     ]
    },
    {
     "name": "stdout",
     "output_type": "stream",
     "text": [
      "Iteração 20000, acurácia: 88.32%\n"
     ]
    },
    {
     "name": "stderr",
     "output_type": "stream",
     "text": [
      " 30%|███       | 30272/100000 [00:10<00:32, 2164.63it/s]"
     ]
    },
    {
     "name": "stdout",
     "output_type": "stream",
     "text": [
      "Iteração 30000, acurácia: 88.89%\n"
     ]
    },
    {
     "name": "stderr",
     "output_type": "stream",
     "text": [
      " 40%|████      | 40268/100000 [00:14<00:28, 2094.46it/s]"
     ]
    },
    {
     "name": "stdout",
     "output_type": "stream",
     "text": [
      "Iteração 40000, acurácia: 89.06%\n"
     ]
    },
    {
     "name": "stderr",
     "output_type": "stream",
     "text": [
      " 50%|█████     | 50319/100000 [00:18<00:22, 2176.02it/s]"
     ]
    },
    {
     "name": "stdout",
     "output_type": "stream",
     "text": [
      "Iteração 50000, acurácia: 89.29%\n"
     ]
    },
    {
     "name": "stderr",
     "output_type": "stream",
     "text": [
      " 60%|██████    | 60327/100000 [00:21<00:18, 2115.74it/s]"
     ]
    },
    {
     "name": "stdout",
     "output_type": "stream",
     "text": [
      "Iteração 60000, acurácia: 89.59%\n"
     ]
    },
    {
     "name": "stderr",
     "output_type": "stream",
     "text": [
      " 70%|███████   | 70263/100000 [00:25<00:15, 1958.49it/s]"
     ]
    },
    {
     "name": "stdout",
     "output_type": "stream",
     "text": [
      "Iteração 70000, acurácia: 90.00%\n"
     ]
    },
    {
     "name": "stderr",
     "output_type": "stream",
     "text": [
      " 80%|████████  | 80395/100000 [00:29<00:09, 2145.21it/s]"
     ]
    },
    {
     "name": "stdout",
     "output_type": "stream",
     "text": [
      "Iteração 80000, acurácia: 89.97%\n"
     ]
    },
    {
     "name": "stderr",
     "output_type": "stream",
     "text": [
      " 91%|█████████ | 90553/100000 [00:32<00:03, 2542.34it/s]"
     ]
    },
    {
     "name": "stdout",
     "output_type": "stream",
     "text": [
      "Iteração 90000, acurácia: 90.11%\n"
     ]
    },
    {
     "name": "stderr",
     "output_type": "stream",
     "text": [
      "100%|██████████| 100000/100000 [00:35<00:00, 2821.27it/s]\n"
     ]
    },
    {
     "name": "stdout",
     "output_type": "stream",
     "text": [
      "Iteração 100000, acurácia: 90.10%\n",
      "Acurácia do modelo no teste: 88.65%\n"
     ]
    }
   ],
   "source": [
    "from random import randint\n",
    "\n",
    "# Função para treinamento com SGD\n",
    "def train_SGD(X, y, n_classes, learning_rate=0.1, n_iter=1000, batch_size=1):\n",
    "    X = X.reshape(X.shape[0], -1)\n",
    "    n_samples, n_features = X.shape\n",
    "    W = np.random.rand(n_features, n_classes)\n",
    "    b = np.zeros((1, n_classes))\n",
    "\n",
    "    num_batches = n_samples // batch_size\n",
    "    for i in tqdm(range(n_iter)):\n",
    "        # Em SGD, iteramos por amostras ou mini-lotes\n",
    "\n",
    "        # sorteia um índice de batch\n",
    "        idx = randint(0,num_batches)\n",
    "        # Selecionar uma amostra ou mini-lote\n",
    "        X_batch = X[idx*batch_size:idx*batch_size + batch_size]\n",
    "        y_batch = y[idx*batch_size:idx*batch_size + batch_size]\n",
    "        \n",
    "        # Cálculo de logits e probabilidades\n",
    "        logits = np.dot(X_batch, W) + b\n",
    "        y_pred = softmax(logits)\n",
    "        pred = np.argmax(y_pred, axis=1)\n",
    "        \n",
    "        # Calcular os gradientes para essa amostra ou mini-lote\n",
    "        y_one_hot = np.eye(n_classes)[y_batch]\n",
    "        grad_W = (1 / batch_size) * np.dot(X_batch.T, (y_pred - y_one_hot))\n",
    "        grad_b = (1 / batch_size) * np.sum(y_pred - y_one_hot, axis=0, keepdims=True)\n",
    "        \n",
    "        # Atualizar os pesos e o viés com base nos gradientes\n",
    "        W -= learning_rate * grad_W\n",
    "        b -= learning_rate * grad_b\n",
    "        \n",
    "        # A cada 5 iterações, printa a acurácia\n",
    "        if i % (n_iter//10) == 0:\n",
    "            pred = np.argmax(softmax(np.dot(X, W) + b), axis=1)\n",
    "            print(f\"Iteração {i}, acurácia: {acuracia(y, pred) * 100:.2f}%\")\n",
    "    \n",
    "    # Final\n",
    "    pred = np.argmax(softmax(np.dot(X, W) + b), axis=1)\n",
    "    print(f\"Iteração {n_iter}, acurácia: {acuracia(y, pred) * 100:.2f}%\")\n",
    "\n",
    "    return W, b\n",
    "\n",
    "# Função para prever as classes\n",
    "def predict(X, W, b):\n",
    "    X = X.reshape(X.shape[0], -1)\n",
    "    logits = np.dot(X, W) + b\n",
    "    y_pred = softmax(logits)\n",
    "    return np.argmax(y_pred, axis=1)\n",
    "\n",
    "# Treinamento usando SGD\n",
    "W, b = train_SGD(X, y, n_classes, learning_rate=0.0001, n_iter=100000, batch_size=100)\n",
    "\n",
    "# Previsão e avaliação\n",
    "y_pred = predict(x_test, W, b)\n",
    "accuracy = np.mean(y_pred == y_test)\n",
    "print(f\"Acurácia do modelo no teste: {accuracy * 100:.2f}%\")\n"
   ]
  },
  {
   "cell_type": "code",
   "execution_count": null,
   "metadata": {},
   "outputs": [
    {
     "name": "stderr",
     "output_type": "stream",
     "text": [
      "/tmp/ipykernel_24360/1429583825.py:6: UserWarning: To copy construct from a tensor, it is recommended to use sourceTensor.clone().detach() or sourceTensor.clone().detach().requires_grad_(True), rather than torch.tensor(sourceTensor).\n",
      "  y_train = torch.tensor(y_train.reshape(y_train.shape[0], -1), dtype=torch.int64)\n",
      "/tmp/ipykernel_24360/1429583825.py:8: UserWarning: To copy construct from a tensor, it is recommended to use sourceTensor.clone().detach() or sourceTensor.clone().detach().requires_grad_(True), rather than torch.tensor(sourceTensor).\n",
      "  y_test = torch.tensor(y_test.reshape(y_test.shape[0], -1), dtype=torch.int64)\n"
     ]
    },
    {
     "ename": "TypeError",
     "evalue": "mean() received an invalid combination of arguments - got (dtype=NoneType, out=NoneType, axis=NoneType, ), but expected one of:\n * (*, torch.dtype dtype = None)\n * (tuple of ints dim, bool keepdim = False, *, torch.dtype dtype = None)\n * (tuple of names dim, bool keepdim = False, *, torch.dtype dtype = None)\n",
     "output_type": "error",
     "traceback": [
      "\u001b[0;31m---------------------------------------------------------------------------\u001b[0m",
      "\u001b[0;31mTypeError\u001b[0m                                 Traceback (most recent call last)",
      "Cell \u001b[0;32mIn[18], line 38\u001b[0m\n\u001b[1;32m     36\u001b[0m     y_pred \u001b[38;5;241m=\u001b[39m y_pred\u001b[38;5;241m.\u001b[39mdetach()\u001b[38;5;241m.\u001b[39mnumpy()\n\u001b[1;32m     37\u001b[0m     y_pred \u001b[38;5;241m=\u001b[39m np\u001b[38;5;241m.\u001b[39margmax(y_pred, axis\u001b[38;5;241m=\u001b[39m\u001b[38;5;241m1\u001b[39m)\n\u001b[0;32m---> 38\u001b[0m     \u001b[38;5;28mprint\u001b[39m(\u001b[38;5;124mf\u001b[39m\u001b[38;5;124m\"\u001b[39m\u001b[38;5;124mIteração \u001b[39m\u001b[38;5;132;01m{\u001b[39;00mi\u001b[38;5;132;01m}\u001b[39;00m\u001b[38;5;124m, acurácia: \u001b[39m\u001b[38;5;132;01m{\u001b[39;00m\u001b[43macuracia\u001b[49m\u001b[43m(\u001b[49m\u001b[43my\u001b[49m\u001b[43m,\u001b[49m\u001b[38;5;250;43m \u001b[39;49m\u001b[43my_pred\u001b[49m\u001b[43m)\u001b[49m\u001b[38;5;250m \u001b[39m\u001b[38;5;241m*\u001b[39m\u001b[38;5;250m \u001b[39m\u001b[38;5;241m100\u001b[39m\u001b[38;5;132;01m:\u001b[39;00m\u001b[38;5;124m.2f\u001b[39m\u001b[38;5;132;01m}\u001b[39;00m\u001b[38;5;124m%\u001b[39m\u001b[38;5;124m\"\u001b[39m)\n\u001b[1;32m     40\u001b[0m \u001b[38;5;66;03m# zera a loss\u001b[39;00m\n\u001b[1;32m     41\u001b[0m loss \u001b[38;5;241m=\u001b[39m \u001b[38;5;241m0\u001b[39m\n",
      "Cell \u001b[0;32mIn[17], line 2\u001b[0m, in \u001b[0;36macuracia\u001b[0;34m(y_true, y_pred)\u001b[0m\n\u001b[1;32m      1\u001b[0m \u001b[38;5;28;01mdef\u001b[39;00m \u001b[38;5;21macuracia\u001b[39m(y_true, y_pred):\n\u001b[0;32m----> 2\u001b[0m     \u001b[38;5;28;01mreturn\u001b[39;00m \u001b[43mnp\u001b[49m\u001b[38;5;241;43m.\u001b[39;49m\u001b[43mmean\u001b[49m\u001b[43m(\u001b[49m\u001b[43my_true\u001b[49m\u001b[43m \u001b[49m\u001b[38;5;241;43m==\u001b[39;49m\u001b[43m \u001b[49m\u001b[43my_pred\u001b[49m\u001b[43m)\u001b[49m\n",
      "File \u001b[0;32m~/Programas/AlgeLin-ML/.venv/lib/python3.12/site-packages/numpy/_core/fromnumeric.py:3902\u001b[0m, in \u001b[0;36mmean\u001b[0;34m(a, axis, dtype, out, keepdims, where)\u001b[0m\n\u001b[1;32m   3900\u001b[0m         \u001b[38;5;28;01mpass\u001b[39;00m\n\u001b[1;32m   3901\u001b[0m     \u001b[38;5;28;01melse\u001b[39;00m:\n\u001b[0;32m-> 3902\u001b[0m         \u001b[38;5;28;01mreturn\u001b[39;00m \u001b[43mmean\u001b[49m\u001b[43m(\u001b[49m\u001b[43maxis\u001b[49m\u001b[38;5;241;43m=\u001b[39;49m\u001b[43maxis\u001b[49m\u001b[43m,\u001b[49m\u001b[43m \u001b[49m\u001b[43mdtype\u001b[49m\u001b[38;5;241;43m=\u001b[39;49m\u001b[43mdtype\u001b[49m\u001b[43m,\u001b[49m\u001b[43m \u001b[49m\u001b[43mout\u001b[49m\u001b[38;5;241;43m=\u001b[39;49m\u001b[43mout\u001b[49m\u001b[43m,\u001b[49m\u001b[43m \u001b[49m\u001b[38;5;241;43m*\u001b[39;49m\u001b[38;5;241;43m*\u001b[39;49m\u001b[43mkwargs\u001b[49m\u001b[43m)\u001b[49m\n\u001b[1;32m   3904\u001b[0m \u001b[38;5;28;01mreturn\u001b[39;00m _methods\u001b[38;5;241m.\u001b[39m_mean(a, axis\u001b[38;5;241m=\u001b[39maxis, dtype\u001b[38;5;241m=\u001b[39mdtype,\n\u001b[1;32m   3905\u001b[0m                       out\u001b[38;5;241m=\u001b[39mout, \u001b[38;5;241m*\u001b[39m\u001b[38;5;241m*\u001b[39mkwargs)\n",
      "\u001b[0;31mTypeError\u001b[0m: mean() received an invalid combination of arguments - got (dtype=NoneType, out=NoneType, axis=NoneType, ), but expected one of:\n * (*, torch.dtype dtype = None)\n * (tuple of ints dim, bool keepdim = False, *, torch.dtype dtype = None)\n * (tuple of names dim, bool keepdim = False, *, torch.dtype dtype = None)\n"
     ]
    }
   ],
   "source": [
    "# redressão logistica do pytorch\n",
    "import torch\n",
    "\n",
    "# Carregar os dados\n",
    "X_train = torch.tensor(x_train.reshape(x_train.shape[0], -1), dtype=torch.float32)\n",
    "y_train = torch.tensor(y_train.reshape(y_train.shape[0], -1), dtype=torch.int64)\n",
    "X_test = torch.tensor(x_test.reshape(x_test.shape[0], -1), dtype=torch.float32)\n",
    "y_test = torch.tensor(y_test.reshape(y_test.shape[0], -1), dtype=torch.int64)\n",
    "\n",
    "# Definir o modelo\n",
    "model = torch.nn.Linear(28*28, 10)\n",
    "loss_fn = torch.nn.CrossEntropyLoss()\n",
    "optimizer = torch.optim.SGD(model.parameters(), lr=0.1)\n",
    "\n",
    "# Treinamento\n",
    "for i in range(100):\n",
    "    model.train()\n",
    "    optimizer.zero_grad()\n",
    "    y_pred = model(X_train)\n",
    "\n",
    "\n",
    "    y_train_one_hot = torch.nn.functional.one_hot(y_train, 10).float()\n",
    "\n",
    "    # remove dimensão vazia do meio\n",
    "    y_train_one_hot = y_train_one_hot.squeeze(1)\n",
    "\n",
    "    loss = loss_fn(y_pred, y_train_one_hot)\n",
    "    loss.backward()\n",
    "    optimizer.step()\n",
    "    \n",
    "    if i % 2 == 0:\n",
    "        model.eval()\n",
    "        y_pred = model(X_train)\n",
    "\n",
    "        # to numpy\n",
    "        y_pred = y_pred.detach().numpy()\n",
    "        y_pred = np.argmax(y_pred, axis=1)\n",
    "        print(f\"Iteração {i}, acurácia: {acuracia(y, y_pred) * 100:.2f}%\")\n",
    "\n",
    "    # zera a loss\n",
    "    loss = 0\n",
    "\n",
    "# Avaliação\n",
    "model.eval()\n",
    "y_pred = model(X_test)\n",
    "acc = torch.mean((torch.argmax(y_pred, dim=1) == y_test).float())\n",
    "print(f\"Acurácia do modelo no teste: {acc * 100:.2f}%\")\n"
   ]
  },
  {
   "cell_type": "markdown",
   "metadata": {},
   "source": []
  }
 ],
 "metadata": {
  "kernelspec": {
   "display_name": ".venv",
   "language": "python",
   "name": "python3"
  },
  "language_info": {
   "codemirror_mode": {
    "name": "ipython",
    "version": 3
   },
   "file_extension": ".py",
   "mimetype": "text/x-python",
   "name": "python",
   "nbconvert_exporter": "python",
   "pygments_lexer": "ipython3",
   "version": "3.12.3"
  }
 },
 "nbformat": 4,
 "nbformat_minor": 2
}
