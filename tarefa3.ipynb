{
 "cells": [
  {
   "cell_type": "markdown",
   "metadata": {
    "vscode": {
     "languageId": "plaintext"
    }
   },
   "source": [
    "# Gradiente e Classificação multinomial\n",
    "\n",
    "Nícolas Hecker Silva RA 186132\n",
    "\n",
    "\n",
    "## Descrição \n",
    "\n",
    "Esta tarefa explora conceitos de c ́alculo vetorial, otimiza ̧c ̃ao e m ́etodos de gradiente descendente no contexto de aprendizado de m ́aquina, com foco em classifica ̧c ̃ao multinomial.\n",
    "\n",
    "## Etapa 1: Funções Convexas e Otimização\n",
    "\n",
    "Dado uma função $f(x) = x^TAx + b^Tx + c$ faça três versões mudando a matriz A para que a função seja:\n",
    "\n",
    "\n",
    "- Fortemente Convexa.\n",
    "- Convexa.\n",
    "- Não Convexa.\n",
    "\n",
    "Evidencia cada uma das propriedades.\n",
    "\n",
    "\n",
    "Dado o enunciado acima, como não foram especificados os tipos das variáveis e constantes será assumido que:\n",
    "x: É um vetor coluna de dimensão n (nx1)\n",
    "A: É uma matriz quadrada de dimensão nxn\n",
    "b: É um vetor coluna de dimensão n (nx1)\n",
    "c: É um escalar\n",
    "\n",
    "Dessa forma a dimensão das parcelas será:\n",
    "\n",
    "$x^TAx = (nx1)^T * (nxn) * (nx1) = (1xn) * (nxn) * (nx1) = (1)$\n",
    "\n",
    "$b^Tx = (nx1)^T * (nx1) = (1xn) * (nx1) = (1)$\n",
    "\n",
    "$c = (1)$\n",
    "\n",
    "Dessa forma f(x) retornará um valor real.\n",
    "\n",
    "Uma função $ f: \\mathbb{R}^n \\to \\mathbb{R} $ é **fortemente convexa** com parâmetro $ m > 0 $ se, para todo $ x, y \\in \\mathbb{R}^n $, satisfizer:\n",
    "\n",
    "$\n",
    "f(x) \\geq f(y) + \\nabla f(y)^T (x - y) + \\frac{m}{2} \\| x - y \\|^2.\n",
    "$\n",
    "\n",
    "Se $ f(x) = x^T A x + b^T x + c $, para que $ f $ seja fortemente convexa, a matriz $ A $ deve ser **positiva definida** com todos os autovalores maiores ou iguais a $ m $, ou seja, $ \\lambda_{\\min}(A) \\geq m > 0 $.\n",
    "\n",
    "Por fim, basta que o menor autovalor de $A$ seja maior que 0, sendo (novamente) **positiva definida**. E para isso, basta ela ser simétrica. Uma matriz exemplo seria\n",
    "\n",
    "$$\n",
    "A = \\begin{pmatrix}\n",
    "  2 & 0 \\\\\n",
    "  0 & 3 \n",
    "\\end{pmatrix}\n",
    "$$\n",
    "\n",
    "cujos autovalores são exatamente 2 e 3."
   ]
  },
  {
   "cell_type": "markdown",
   "metadata": {},
   "source": []
  }
 ],
 "metadata": {
  "language_info": {
   "name": "python"
  }
 },
 "nbformat": 4,
 "nbformat_minor": 2
}
