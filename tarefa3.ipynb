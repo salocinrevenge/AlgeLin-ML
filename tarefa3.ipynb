{
 "cells": [
  {
   "cell_type": "markdown",
   "metadata": {
    "vscode": {
     "languageId": "plaintext"
    }
   },
   "source": [
    "# Gradiente e Classificação multinomial\n",
    "\n",
    "Nícolas Hecker Silva RA 186132\n",
    "\n",
    "\n",
    "## Descrição \n",
    "\n",
    "Esta tarefa explora conceitos de c ́alculo vetorial, otimiza ̧c ̃ao e m ́etodos de gradiente descendente no contexto de aprendizado de m ́aquina, com foco em classifica ̧c ̃ao multinomial.\n",
    "\n",
    "## Etapa 1: Funções Convexas e Otimização\n",
    "\n",
    "Dado uma função f(x) = xTAx + bTx + c faça três versões mudando a matriz A para que a função seja:\n",
    "\n",
    "\n",
    "- Fortemente Convexa.\n",
    "- Convexa.\n",
    "- Não Convexa.\n",
    "\n",
    "Evidencia cada uma das propriedades.\n",
    "\n",
    "\n",
    "Dado o enunciado acima, como não foram especificados os tipos das variáveis e constantes será assumido que:\n",
    "x: É um vetor coluna de dimensão n\n",
    "A: É uma matriz quadrada simétrica de dimensão n×n\n",
    "b: É um vetor coluna de dimensão n\n",
    "c: É um escalar real"
   ]
  },
  {
   "cell_type": "markdown",
   "metadata": {},
   "source": []
  }
 ],
 "metadata": {
  "language_info": {
   "name": "python"
  }
 },
 "nbformat": 4,
 "nbformat_minor": 2
}
