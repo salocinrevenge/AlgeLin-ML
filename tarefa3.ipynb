{
 "cells": [
  {
   "cell_type": "markdown",
   "metadata": {
    "vscode": {
     "languageId": "plaintext"
    }
   },
   "source": [
    "# Gradiente e Classificação multinomial\n",
    "\n",
    "Nícolas Hecker Silva RA 186132\n",
    "\n",
    "\n",
    "## Descrição \n",
    "\n",
    "Esta tarefa explora conceitos de c ́alculo vetorial, otimiza ̧c ̃ao e m ́etodos de gradiente descendente no contexto de aprendizado de m ́aquina, com foco em classifica ̧c ̃ao multinomial.\n",
    "\n",
    "## Etapa 1: Funções Convexas e Otimização\n",
    "\n",
    "Dado uma função $f(x) = x^TAx + b^Tx + c$ faça três versões mudando a matriz A para que a função seja:\n",
    "\n",
    "\n",
    "- Fortemente Convexa.\n",
    "- Convexa.\n",
    "- Não Convexa.\n",
    "\n",
    "Evidencia cada uma das propriedades.\n",
    "\n",
    "\n",
    "Dado o enunciado acima, como não foram especificados os tipos das variáveis e constantes será assumido que:\n",
    "x: É um vetor coluna de dimensão n (nx1)\n",
    "A: É uma matriz quadrada de dimensão nxn\n",
    "b: É um vetor coluna de dimensão n (nx1)\n",
    "c: É um escalar\n",
    "\n",
    "Dessa forma a dimensão das parcelas será:\n",
    "\n",
    "$x^TAx = (nx1)^T * (nxn) * (nx1) = (1xn) * (nxn) * (nx1) = (1)$\n",
    "\n",
    "$b^Tx = (nx1)^T * (nx1) = (1xn) * (nx1) = (1)$\n",
    "\n",
    "$c = (1)$\n",
    "\n",
    "Dessa forma f(x) retornará um valor real.\n",
    "\n",
    "Uma função $ f: \\mathbb{R}^n \\to \\mathbb{R} $ é **fortemente convexa** com parâmetro $ m > 0 $ se, para todo $ x, y \\in \\mathbb{R}^n $, satisfizer:\n",
    "\n",
    "$\n",
    "f(x) \\geq f(y) + \\nabla f(y)^T (x - y) + \\frac{m}{2} \\| x - y \\|^2.\n",
    "$\n",
    "\n",
    "Se $ f(x) = x^T A x + b^T x + c $, para que $ f $ seja fortemente convexa, a matriz $ A $ deve ser **positiva definida** com todos os autovalores maiores ou iguais a $ m $, ou seja, $ \\lambda_{\\min}(A) \\geq m > 0 $.\n",
    "\n",
    "Por fim, basta que o menor autovalor de $A$ seja maior que 0, sendo (novamente) **positiva definida**. E para isso, basta ela ser simétrica. Uma matriz exemplo seria\n",
    "\n",
    "$$\n",
    "A = \\begin{pmatrix}\n",
    "  2 & 0 \\\\\n",
    "  0 & 3 \n",
    "\\end{pmatrix}\n",
    "$$\n",
    "\n",
    "cujos autovalores são exatamente 2 e 3.\n",
    "\n",
    "Já para a função ser **convexa** basta que seus autovalores sejam não negativos, ou seja, eles podem ser nulos. Dessa forma, a matriz exemplo\n",
    "\n",
    "$$\n",
    "A = \\begin{pmatrix}\n",
    "  2 & 0 \\\\\n",
    "  0 & 0\n",
    "\\end{pmatrix}\n",
    "$$\n",
    "\n",
    "terá os autovalores 0 e 2, fazendo com que f(x) seja **convexa**.\n",
    "\n",
    "Dessa forma, para que a função f seja **não convexa**, é necessário que algum autovalor seja negativo, pois nesse caso a função f(x) não terá curvatura positiva em todas as direções, podendo curvar-se para baixo em algumas direções, o que viola a convexidade.\n",
    "\n",
    "Um exemplo é a matriz\n",
    "\n",
    "$$\n",
    "A = \\begin{pmatrix}\n",
    "  2 & 0 \\\\\n",
    "  0 & -1\n",
    "\\end{pmatrix}\n",
    "$$\n",
    "\n",
    "em que os autovalores são 2 e -1, sendo -1 um valor negativo fazendo com que A não seja semidefinida positiva.\n",
    "\n"
   ]
  },
  {
   "cell_type": "code",
   "execution_count": 7,
   "metadata": {},
   "outputs": [
    {
     "name": "stdout",
     "output_type": "stream",
     "text": [
      "/bin/bash: linha 1: /home/nicolas/Programas/AlgeLin-ML/.venv/bin/pip: não é possível executar: arquivo necessário não encontrado\n"
     ]
    }
   ],
   "source": [
    "!pip install kagglehub"
   ]
  },
  {
   "cell_type": "code",
   "execution_count": 6,
   "metadata": {},
   "outputs": [
    {
     "name": "stdout",
     "output_type": "stream",
     "text": [
      "/bin/bash: linha 1: /home/nicolas/Programas/AlgeLin-ML/.venv/bin/pip: não é possível executar: arquivo necessário não encontrado\n"
     ]
    },
    {
     "ename": "ModuleNotFoundError",
     "evalue": "No module named 'kagglehub'",
     "output_type": "error",
     "traceback": [
      "\u001b[0;31m---------------------------------------------------------------------------\u001b[0m",
      "\u001b[0;31mModuleNotFoundError\u001b[0m                       Traceback (most recent call last)",
      "Cell \u001b[0;32mIn[6], line 3\u001b[0m\n\u001b[1;32m      1\u001b[0m get_ipython()\u001b[38;5;241m.\u001b[39msystem(\u001b[38;5;124m'\u001b[39m\u001b[38;5;124mpip install kagglehub\u001b[39m\u001b[38;5;124m'\u001b[39m)\n\u001b[0;32m----> 3\u001b[0m \u001b[38;5;28;01mimport\u001b[39;00m \u001b[38;5;21;01mkagglehub\u001b[39;00m\n\u001b[1;32m      5\u001b[0m \u001b[38;5;66;03m# Download latest version\u001b[39;00m\n\u001b[1;32m      6\u001b[0m path \u001b[38;5;241m=\u001b[39m kagglehub\u001b[38;5;241m.\u001b[39mdataset_download(\u001b[38;5;124m\"\u001b[39m\u001b[38;5;124mhojjatk/mnist-dataset\u001b[39m\u001b[38;5;124m\"\u001b[39m)\n",
      "\u001b[0;31mModuleNotFoundError\u001b[0m: No module named 'kagglehub'"
     ]
    }
   ],
   "source": [
    "!pip install kagglehub\n",
    "\n",
    "import kagglehub\n",
    "\n",
    "# Download latest version\n",
    "path = kagglehub.dataset_download(\"hojjatk/mnist-dataset\")\n",
    "\n",
    "print(\"Path to dataset files:\", path)"
   ]
  },
  {
   "cell_type": "markdown",
   "metadata": {},
   "source": []
  }
 ],
 "metadata": {
  "kernelspec": {
   "display_name": ".venv",
   "language": "python",
   "name": "python3"
  },
  "language_info": {
   "codemirror_mode": {
    "name": "ipython",
    "version": 3
   },
   "file_extension": ".py",
   "mimetype": "text/x-python",
   "name": "python",
   "nbconvert_exporter": "python",
   "pygments_lexer": "ipython3",
   "version": "3.12.3"
  }
 },
 "nbformat": 4,
 "nbformat_minor": 2
}
